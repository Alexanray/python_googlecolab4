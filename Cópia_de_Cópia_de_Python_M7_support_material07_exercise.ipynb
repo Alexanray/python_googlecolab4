{
  "nbformat": 4,
  "nbformat_minor": 0,
  "metadata": {
    "colab": {
      "provenance": [],
      "toc_visible": true,
      "include_colab_link": true
    },
    "kernelspec": {
      "name": "python3",
      "display_name": "Python 3"
    }
  },
  "cells": [
    {
      "cell_type": "markdown",
      "metadata": {
        "id": "view-in-github",
        "colab_type": "text"
      },
      "source": [
        "<a href=\"https://colab.research.google.com/github/Alexanray/python_googlecolab4/blob/main/C%C3%B3pia_de_C%C3%B3pia_de_Python_M7_support_material07_exercise.ipynb\" target=\"_parent\"><img src=\"https://colab.research.google.com/assets/colab-badge.svg\" alt=\"Open In Colab\"/></a>"
      ]
    },
    {
      "cell_type": "markdown",
      "metadata": {
        "id": "KJqp9AANOCtf"
      },
      "source": [
        "<img src=\"https://raw.githubusercontent.com/andre-marcos-perez/ebac-course-utils/main/media/logo/newebac_logo_black_half.png\" alt=\"ebac-logo\">\n",
        "\n",
        "---\n",
        "\n",
        "# **Módulo 07** | Python: Programação Orientada a Objetos\n",
        "Caderno de **Exercícios**<br>\n",
        "Aluno [Alexandre Jardim](https://www.linkedin.com/in/alexandrejardim/)\n",
        "\n",
        "---"
      ]
    },
    {
      "cell_type": "markdown",
      "metadata": {
        "id": "d9jDtUbDOE1-"
      },
      "source": [
        "# **Tópicos**\n",
        "\n",
        "<ol type=\"1\">\n",
        "  <li>from / import / as;</li>\n",
        "  <li>Módulo;</li>\n",
        "  <li>Pacote;</li>\n",
        "  <li>Baixando pacotes.</li>\n",
        "</ol>"
      ]
    },
    {
      "cell_type": "markdown",
      "metadata": {
        "id": "SmoHgt-lwkpD"
      },
      "source": [
        "---"
      ]
    },
    {
      "cell_type": "markdown",
      "metadata": {
        "id": "GABI6OW8OfQ2"
      },
      "source": [
        "# **Exercícios**"
      ]
    },
    {
      "cell_type": "markdown",
      "metadata": {
        "id": "muD1vxozykSC"
      },
      "source": [
        "## 0\\. Preparação do ambiente"
      ]
    },
    {
      "cell_type": "markdown",
      "metadata": {
        "id": "ahrFfCuBxJKs"
      },
      "source": [
        "Neste exercício vamos utilizar a base de dados de ações da bolsa de valores dos EUA, a Dow Jones. Os dados estão disponíveis para *download* neste [link](https://archive.ics.uci.edu/ml/datasets/Dow+Jones+Index). Vamos utilizar o pacote `wget` para fazer o *download* dos dados."
      ]
    },
    {
      "cell_type": "markdown",
      "metadata": {
        "id": "AtPc2994meNR"
      },
      "source": [
        " - Instalando o pacote `wget` na versão 3.2."
      ]
    },
    {
      "cell_type": "code",
      "metadata": {
        "id": "DzM3--8Gk_mU",
        "colab": {
          "base_uri": "https://localhost:8080/"
        },
        "outputId": "7c935985-3f96-4e4a-91e0-55be5acdfdc2"
      },
      "source": [
        "!pip install wget==3.2"
      ],
      "execution_count": null,
      "outputs": [
        {
          "output_type": "stream",
          "name": "stdout",
          "text": [
            "Collecting wget==3.2\n",
            "  Downloading wget-3.2.zip (10 kB)\n",
            "  Preparing metadata (setup.py) ... \u001b[?25l\u001b[?25hdone\n",
            "Building wheels for collected packages: wget\n",
            "  Building wheel for wget (setup.py) ... \u001b[?25l\u001b[?25hdone\n",
            "  Created wheel for wget: filename=wget-3.2-py3-none-any.whl size=9655 sha256=a36d31fcc5fbf8c39d4a3d65fa3ed61bad5cef7e6ae14c08fca164a5b7bd42af\n",
            "  Stored in directory: /root/.cache/pip/wheels/8b/f1/7f/5c94f0a7a505ca1c81cd1d9208ae2064675d97582078e6c769\n",
            "Successfully built wget\n",
            "Installing collected packages: wget\n",
            "Successfully installed wget-3.2\n"
          ]
        }
      ]
    },
    {
      "cell_type": "markdown",
      "metadata": {
        "id": "tVc1aUTmmkIU"
      },
      "source": [
        " - Fazendo o download dos dados no arquivo compactado `dados.zip`."
      ]
    },
    {
      "cell_type": "code",
      "metadata": {
        "id": "SZWlsi2blOOt",
        "colab": {
          "base_uri": "https://localhost:8080/",
          "height": 36
        },
        "outputId": "00f81a55-c1fd-49d6-db7d-2317f9140e13"
      },
      "source": [
        "import wget\n",
        "\n",
        "wget.download(url='https://archive.ics.uci.edu/ml/machine-learning-databases/00312/dow_jones_index.zip', out='./dados.zip')"
      ],
      "execution_count": null,
      "outputs": [
        {
          "output_type": "execute_result",
          "data": {
            "text/plain": [
              "'./dados.zip'"
            ],
            "application/vnd.google.colaboratory.intrinsic+json": {
              "type": "string"
            }
          },
          "metadata": {},
          "execution_count": 2
        }
      ]
    },
    {
      "cell_type": "markdown",
      "metadata": {
        "id": "339oiie2mvCP"
      },
      "source": [
        " - Descompactando os `dados` na pasta dados com o pacote nativo `zipfile`."
      ]
    },
    {
      "cell_type": "code",
      "metadata": {
        "id": "6tFPV081loK4"
      },
      "source": [
        "import zipfile\n",
        "\n",
        "with zipfile.ZipFile('./dados.zip', 'r') as fp:\n",
        "  fp.extractall('./dados')"
      ],
      "execution_count": null,
      "outputs": []
    },
    {
      "cell_type": "markdown",
      "metadata": {
        "id": "KI9zQRT2xa7m"
      },
      "source": [
        "Verifique a pasta dados criada, ela deve conter dois arquivos:\n",
        "\n",
        " - **dow_jones_index.data**: um arquivo com os dados;\n",
        " - **dow_jones_index.names**: um arquivo com a descrição completa dos dados.\n",
        "\n",
        "É possível observar que o arquivo de dados é um arquivo separado por virgulas, o famoso `csv`. Vamos renomear o arquivo de dados para que ele tenha a extensão `csv` com o pacote nativo `os`."
      ]
    },
    {
      "cell_type": "markdown",
      "metadata": {
        "id": "5k7LLQU5n8aY"
      },
      "source": [
        "- Renomeando o arquivo com o pacote nativo `os`."
      ]
    },
    {
      "cell_type": "code",
      "metadata": {
        "id": "PyZ2zqwcn5CU"
      },
      "source": [
        "import os\n",
        "\n",
        "os.rename('./dados/dow_jones_index.data', './dados/dow_jones_index.csv')"
      ],
      "execution_count": null,
      "outputs": []
    },
    {
      "cell_type": "markdown",
      "metadata": {
        "id": "2Zf74P1yoeYc"
      },
      "source": [
        "Pronto! Abra o arquivo e o Google Colab irá apresentar uma visualização bem legal dos dados."
      ]
    },
    {
      "cell_type": "markdown",
      "metadata": {
        "id": "zMN1Q3jdwoJm"
      },
      "source": [
        "---"
      ]
    },
    {
      "cell_type": "markdown",
      "metadata": {
        "id": "FwqgmwxakNh6"
      },
      "source": [
        "## 1\\. Pandas"
      ]
    },
    {
      "cell_type": "markdown",
      "metadata": {
        "id": "It_mfyHzkRJ8"
      },
      "source": [
        "Para processar os dados, vamos utilizar o pacote `pandas` na versão `1.1.5`. A documentação completa por ser encontrada neste [link](https://pandas.pydata.org/docs/)"
      ]
    },
    {
      "cell_type": "code",
      "metadata": {
        "id": "DF3DkjPjpn1X",
        "colab": {
          "base_uri": "https://localhost:8080/"
        },
        "outputId": "c430b799-4366-4cb4-91a2-11df0171e9fd"
      },
      "source": [
        "!pip install pandas==1.1.5"
      ],
      "execution_count": null,
      "outputs": [
        {
          "output_type": "stream",
          "name": "stdout",
          "text": [
            "Requirement already satisfied: pandas==1.1.5 in /usr/local/lib/python3.10/dist-packages (1.1.5)\n",
            "Requirement already satisfied: python-dateutil>=2.7.3 in /usr/local/lib/python3.10/dist-packages (from pandas==1.1.5) (2.8.2)\n",
            "Requirement already satisfied: pytz>=2017.2 in /usr/local/lib/python3.10/dist-packages (from pandas==1.1.5) (2023.3.post1)\n",
            "Requirement already satisfied: numpy>=1.15.4 in /usr/local/lib/python3.10/dist-packages (from pandas==1.1.5) (1.23.5)\n",
            "Requirement already satisfied: six>=1.5 in /usr/local/lib/python3.10/dist-packages (from python-dateutil>=2.7.3->pandas==1.1.5) (1.16.0)\n"
          ]
        }
      ]
    },
    {
      "cell_type": "markdown",
      "metadata": {
        "id": "CqVcTZE-wyBt"
      },
      "source": [
        "Vamos importar o pacote com o apelido (alias) `pd`."
      ]
    },
    {
      "cell_type": "code",
      "metadata": {
        "id": "qjA_H6WapxK3"
      },
      "source": [
        "import pandas as pd"
      ],
      "execution_count": null,
      "outputs": []
    },
    {
      "cell_type": "markdown",
      "metadata": {
        "id": "KFQ77on-w0Fo"
      },
      "source": [
        "Estamos prontos para ler o arquivo."
      ]
    },
    {
      "cell_type": "code",
      "metadata": {
        "id": "-1yL07iwqWk3"
      },
      "source": [
        "df = pd.read_csv('./dados/dow_jones_index.csv')"
      ],
      "execution_count": null,
      "outputs": []
    },
    {
      "cell_type": "markdown",
      "metadata": {
        "id": "mnLvLSWCxGt_"
      },
      "source": [
        "O pandas trabalha com o conceito de dataframe, uma estrutura de dados com muitos métodos e atributos que aceleram o processamento de dados. Alguns exemplos:"
      ]
    },
    {
      "cell_type": "markdown",
      "metadata": {
        "id": "rf6pevg7xIuQ"
      },
      "source": [
        " - Visualizando as `n` primeiras linhas:"
      ]
    },
    {
      "cell_type": "code",
      "metadata": {
        "id": "fqF7AQvRqn69",
        "colab": {
          "base_uri": "https://localhost:8080/",
          "height": 383
        },
        "outputId": "6c3231f5-8502-449d-a082-384590344a16"
      },
      "source": [
        "df.head(n=10)"
      ],
      "execution_count": null,
      "outputs": [
        {
          "output_type": "execute_result",
          "data": {
            "text/plain": [
              "   quarter stock       date    open    high     low   close     volume  \\\n",
              "0        1    AA   1/7/2011  $15.82  $16.72  $15.78  $16.42  239655616   \n",
              "1        1    AA  1/14/2011  $16.71  $16.71  $15.64  $15.97  242963398   \n",
              "2        1    AA  1/21/2011  $16.19  $16.38  $15.60  $15.79  138428495   \n",
              "3        1    AA  1/28/2011  $15.87  $16.63  $15.82  $16.13  151379173   \n",
              "4        1    AA   2/4/2011  $16.18  $17.39  $16.18  $17.14  154387761   \n",
              "5        1    AA  2/11/2011  $17.33  $17.48  $16.97  $17.37  114691279   \n",
              "6        1    AA  2/18/2011  $17.39  $17.68  $17.28  $17.28   80023895   \n",
              "7        1    AA  2/25/2011  $16.98  $17.15  $15.96  $16.68  132981863   \n",
              "8        1    AA   3/4/2011  $16.81  $16.94  $16.13  $16.58  109493077   \n",
              "9        1    AA  3/11/2011  $16.58  $16.75  $15.42  $16.03  114332562   \n",
              "\n",
              "   percent_change_price  percent_change_volume_over_last_wk  \\\n",
              "0              3.792670                                 NaN   \n",
              "1             -4.428490                            1.380223   \n",
              "2             -2.470660                          -43.024959   \n",
              "3              1.638310                            9.355500   \n",
              "4              5.933250                            1.987452   \n",
              "5              0.230814                          -25.712195   \n",
              "6             -0.632547                          -30.226696   \n",
              "7             -1.766780                           66.177694   \n",
              "8             -1.368230                          -17.663150   \n",
              "9             -3.317250                            4.419900   \n",
              "\n",
              "   previous_weeks_volume next_weeks_open next_weeks_close  \\\n",
              "0                    NaN          $16.71           $15.97   \n",
              "1            239655616.0          $16.19           $15.79   \n",
              "2            242963398.0          $15.87           $16.13   \n",
              "3            138428495.0          $16.18           $17.14   \n",
              "4            151379173.0          $17.33           $17.37   \n",
              "5            154387761.0          $17.39           $17.28   \n",
              "6            114691279.0          $16.98           $16.68   \n",
              "7             80023895.0          $16.81           $16.58   \n",
              "8            132981863.0          $16.58           $16.03   \n",
              "9            109493077.0          $15.95           $16.11   \n",
              "\n",
              "   percent_change_next_weeks_price  days_to_next_dividend  \\\n",
              "0                        -4.428490                     26   \n",
              "1                        -2.470660                     19   \n",
              "2                         1.638310                     12   \n",
              "3                         5.933250                      5   \n",
              "4                         0.230814                     97   \n",
              "5                        -0.632547                     90   \n",
              "6                        -1.766780                     83   \n",
              "7                        -1.368230                     76   \n",
              "8                        -3.317250                     69   \n",
              "9                         1.003130                     62   \n",
              "\n",
              "   percent_return_next_dividend  \n",
              "0                      0.182704  \n",
              "1                      0.187852  \n",
              "2                      0.189994  \n",
              "3                      0.185989  \n",
              "4                      0.175029  \n",
              "5                      0.172712  \n",
              "6                      0.173611  \n",
              "7                      0.179856  \n",
              "8                      0.180941  \n",
              "9                      0.187149  "
            ],
            "text/html": [
              "\n",
              "  <div id=\"df-eebfd747-13ce-4144-ade9-66a4b256a6be\" class=\"colab-df-container\">\n",
              "    <div>\n",
              "<style scoped>\n",
              "    .dataframe tbody tr th:only-of-type {\n",
              "        vertical-align: middle;\n",
              "    }\n",
              "\n",
              "    .dataframe tbody tr th {\n",
              "        vertical-align: top;\n",
              "    }\n",
              "\n",
              "    .dataframe thead th {\n",
              "        text-align: right;\n",
              "    }\n",
              "</style>\n",
              "<table border=\"1\" class=\"dataframe\">\n",
              "  <thead>\n",
              "    <tr style=\"text-align: right;\">\n",
              "      <th></th>\n",
              "      <th>quarter</th>\n",
              "      <th>stock</th>\n",
              "      <th>date</th>\n",
              "      <th>open</th>\n",
              "      <th>high</th>\n",
              "      <th>low</th>\n",
              "      <th>close</th>\n",
              "      <th>volume</th>\n",
              "      <th>percent_change_price</th>\n",
              "      <th>percent_change_volume_over_last_wk</th>\n",
              "      <th>previous_weeks_volume</th>\n",
              "      <th>next_weeks_open</th>\n",
              "      <th>next_weeks_close</th>\n",
              "      <th>percent_change_next_weeks_price</th>\n",
              "      <th>days_to_next_dividend</th>\n",
              "      <th>percent_return_next_dividend</th>\n",
              "    </tr>\n",
              "  </thead>\n",
              "  <tbody>\n",
              "    <tr>\n",
              "      <th>0</th>\n",
              "      <td>1</td>\n",
              "      <td>AA</td>\n",
              "      <td>1/7/2011</td>\n",
              "      <td>$15.82</td>\n",
              "      <td>$16.72</td>\n",
              "      <td>$15.78</td>\n",
              "      <td>$16.42</td>\n",
              "      <td>239655616</td>\n",
              "      <td>3.792670</td>\n",
              "      <td>NaN</td>\n",
              "      <td>NaN</td>\n",
              "      <td>$16.71</td>\n",
              "      <td>$15.97</td>\n",
              "      <td>-4.428490</td>\n",
              "      <td>26</td>\n",
              "      <td>0.182704</td>\n",
              "    </tr>\n",
              "    <tr>\n",
              "      <th>1</th>\n",
              "      <td>1</td>\n",
              "      <td>AA</td>\n",
              "      <td>1/14/2011</td>\n",
              "      <td>$16.71</td>\n",
              "      <td>$16.71</td>\n",
              "      <td>$15.64</td>\n",
              "      <td>$15.97</td>\n",
              "      <td>242963398</td>\n",
              "      <td>-4.428490</td>\n",
              "      <td>1.380223</td>\n",
              "      <td>239655616.0</td>\n",
              "      <td>$16.19</td>\n",
              "      <td>$15.79</td>\n",
              "      <td>-2.470660</td>\n",
              "      <td>19</td>\n",
              "      <td>0.187852</td>\n",
              "    </tr>\n",
              "    <tr>\n",
              "      <th>2</th>\n",
              "      <td>1</td>\n",
              "      <td>AA</td>\n",
              "      <td>1/21/2011</td>\n",
              "      <td>$16.19</td>\n",
              "      <td>$16.38</td>\n",
              "      <td>$15.60</td>\n",
              "      <td>$15.79</td>\n",
              "      <td>138428495</td>\n",
              "      <td>-2.470660</td>\n",
              "      <td>-43.024959</td>\n",
              "      <td>242963398.0</td>\n",
              "      <td>$15.87</td>\n",
              "      <td>$16.13</td>\n",
              "      <td>1.638310</td>\n",
              "      <td>12</td>\n",
              "      <td>0.189994</td>\n",
              "    </tr>\n",
              "    <tr>\n",
              "      <th>3</th>\n",
              "      <td>1</td>\n",
              "      <td>AA</td>\n",
              "      <td>1/28/2011</td>\n",
              "      <td>$15.87</td>\n",
              "      <td>$16.63</td>\n",
              "      <td>$15.82</td>\n",
              "      <td>$16.13</td>\n",
              "      <td>151379173</td>\n",
              "      <td>1.638310</td>\n",
              "      <td>9.355500</td>\n",
              "      <td>138428495.0</td>\n",
              "      <td>$16.18</td>\n",
              "      <td>$17.14</td>\n",
              "      <td>5.933250</td>\n",
              "      <td>5</td>\n",
              "      <td>0.185989</td>\n",
              "    </tr>\n",
              "    <tr>\n",
              "      <th>4</th>\n",
              "      <td>1</td>\n",
              "      <td>AA</td>\n",
              "      <td>2/4/2011</td>\n",
              "      <td>$16.18</td>\n",
              "      <td>$17.39</td>\n",
              "      <td>$16.18</td>\n",
              "      <td>$17.14</td>\n",
              "      <td>154387761</td>\n",
              "      <td>5.933250</td>\n",
              "      <td>1.987452</td>\n",
              "      <td>151379173.0</td>\n",
              "      <td>$17.33</td>\n",
              "      <td>$17.37</td>\n",
              "      <td>0.230814</td>\n",
              "      <td>97</td>\n",
              "      <td>0.175029</td>\n",
              "    </tr>\n",
              "    <tr>\n",
              "      <th>5</th>\n",
              "      <td>1</td>\n",
              "      <td>AA</td>\n",
              "      <td>2/11/2011</td>\n",
              "      <td>$17.33</td>\n",
              "      <td>$17.48</td>\n",
              "      <td>$16.97</td>\n",
              "      <td>$17.37</td>\n",
              "      <td>114691279</td>\n",
              "      <td>0.230814</td>\n",
              "      <td>-25.712195</td>\n",
              "      <td>154387761.0</td>\n",
              "      <td>$17.39</td>\n",
              "      <td>$17.28</td>\n",
              "      <td>-0.632547</td>\n",
              "      <td>90</td>\n",
              "      <td>0.172712</td>\n",
              "    </tr>\n",
              "    <tr>\n",
              "      <th>6</th>\n",
              "      <td>1</td>\n",
              "      <td>AA</td>\n",
              "      <td>2/18/2011</td>\n",
              "      <td>$17.39</td>\n",
              "      <td>$17.68</td>\n",
              "      <td>$17.28</td>\n",
              "      <td>$17.28</td>\n",
              "      <td>80023895</td>\n",
              "      <td>-0.632547</td>\n",
              "      <td>-30.226696</td>\n",
              "      <td>114691279.0</td>\n",
              "      <td>$16.98</td>\n",
              "      <td>$16.68</td>\n",
              "      <td>-1.766780</td>\n",
              "      <td>83</td>\n",
              "      <td>0.173611</td>\n",
              "    </tr>\n",
              "    <tr>\n",
              "      <th>7</th>\n",
              "      <td>1</td>\n",
              "      <td>AA</td>\n",
              "      <td>2/25/2011</td>\n",
              "      <td>$16.98</td>\n",
              "      <td>$17.15</td>\n",
              "      <td>$15.96</td>\n",
              "      <td>$16.68</td>\n",
              "      <td>132981863</td>\n",
              "      <td>-1.766780</td>\n",
              "      <td>66.177694</td>\n",
              "      <td>80023895.0</td>\n",
              "      <td>$16.81</td>\n",
              "      <td>$16.58</td>\n",
              "      <td>-1.368230</td>\n",
              "      <td>76</td>\n",
              "      <td>0.179856</td>\n",
              "    </tr>\n",
              "    <tr>\n",
              "      <th>8</th>\n",
              "      <td>1</td>\n",
              "      <td>AA</td>\n",
              "      <td>3/4/2011</td>\n",
              "      <td>$16.81</td>\n",
              "      <td>$16.94</td>\n",
              "      <td>$16.13</td>\n",
              "      <td>$16.58</td>\n",
              "      <td>109493077</td>\n",
              "      <td>-1.368230</td>\n",
              "      <td>-17.663150</td>\n",
              "      <td>132981863.0</td>\n",
              "      <td>$16.58</td>\n",
              "      <td>$16.03</td>\n",
              "      <td>-3.317250</td>\n",
              "      <td>69</td>\n",
              "      <td>0.180941</td>\n",
              "    </tr>\n",
              "    <tr>\n",
              "      <th>9</th>\n",
              "      <td>1</td>\n",
              "      <td>AA</td>\n",
              "      <td>3/11/2011</td>\n",
              "      <td>$16.58</td>\n",
              "      <td>$16.75</td>\n",
              "      <td>$15.42</td>\n",
              "      <td>$16.03</td>\n",
              "      <td>114332562</td>\n",
              "      <td>-3.317250</td>\n",
              "      <td>4.419900</td>\n",
              "      <td>109493077.0</td>\n",
              "      <td>$15.95</td>\n",
              "      <td>$16.11</td>\n",
              "      <td>1.003130</td>\n",
              "      <td>62</td>\n",
              "      <td>0.187149</td>\n",
              "    </tr>\n",
              "  </tbody>\n",
              "</table>\n",
              "</div>\n",
              "    <div class=\"colab-df-buttons\">\n",
              "\n",
              "  <div class=\"colab-df-container\">\n",
              "    <button class=\"colab-df-convert\" onclick=\"convertToInteractive('df-eebfd747-13ce-4144-ade9-66a4b256a6be')\"\n",
              "            title=\"Convert this dataframe to an interactive table.\"\n",
              "            style=\"display:none;\">\n",
              "\n",
              "  <svg xmlns=\"http://www.w3.org/2000/svg\" height=\"24px\" viewBox=\"0 -960 960 960\">\n",
              "    <path d=\"M120-120v-720h720v720H120Zm60-500h600v-160H180v160Zm220 220h160v-160H400v160Zm0 220h160v-160H400v160ZM180-400h160v-160H180v160Zm440 0h160v-160H620v160ZM180-180h160v-160H180v160Zm440 0h160v-160H620v160Z\"/>\n",
              "  </svg>\n",
              "    </button>\n",
              "\n",
              "  <style>\n",
              "    .colab-df-container {\n",
              "      display:flex;\n",
              "      gap: 12px;\n",
              "    }\n",
              "\n",
              "    .colab-df-convert {\n",
              "      background-color: #E8F0FE;\n",
              "      border: none;\n",
              "      border-radius: 50%;\n",
              "      cursor: pointer;\n",
              "      display: none;\n",
              "      fill: #1967D2;\n",
              "      height: 32px;\n",
              "      padding: 0 0 0 0;\n",
              "      width: 32px;\n",
              "    }\n",
              "\n",
              "    .colab-df-convert:hover {\n",
              "      background-color: #E2EBFA;\n",
              "      box-shadow: 0px 1px 2px rgba(60, 64, 67, 0.3), 0px 1px 3px 1px rgba(60, 64, 67, 0.15);\n",
              "      fill: #174EA6;\n",
              "    }\n",
              "\n",
              "    .colab-df-buttons div {\n",
              "      margin-bottom: 4px;\n",
              "    }\n",
              "\n",
              "    [theme=dark] .colab-df-convert {\n",
              "      background-color: #3B4455;\n",
              "      fill: #D2E3FC;\n",
              "    }\n",
              "\n",
              "    [theme=dark] .colab-df-convert:hover {\n",
              "      background-color: #434B5C;\n",
              "      box-shadow: 0px 1px 3px 1px rgba(0, 0, 0, 0.15);\n",
              "      filter: drop-shadow(0px 1px 2px rgba(0, 0, 0, 0.3));\n",
              "      fill: #FFFFFF;\n",
              "    }\n",
              "  </style>\n",
              "\n",
              "    <script>\n",
              "      const buttonEl =\n",
              "        document.querySelector('#df-eebfd747-13ce-4144-ade9-66a4b256a6be button.colab-df-convert');\n",
              "      buttonEl.style.display =\n",
              "        google.colab.kernel.accessAllowed ? 'block' : 'none';\n",
              "\n",
              "      async function convertToInteractive(key) {\n",
              "        const element = document.querySelector('#df-eebfd747-13ce-4144-ade9-66a4b256a6be');\n",
              "        const dataTable =\n",
              "          await google.colab.kernel.invokeFunction('convertToInteractive',\n",
              "                                                    [key], {});\n",
              "        if (!dataTable) return;\n",
              "\n",
              "        const docLinkHtml = 'Like what you see? Visit the ' +\n",
              "          '<a target=\"_blank\" href=https://colab.research.google.com/notebooks/data_table.ipynb>data table notebook</a>'\n",
              "          + ' to learn more about interactive tables.';\n",
              "        element.innerHTML = '';\n",
              "        dataTable['output_type'] = 'display_data';\n",
              "        await google.colab.output.renderOutput(dataTable, element);\n",
              "        const docLink = document.createElement('div');\n",
              "        docLink.innerHTML = docLinkHtml;\n",
              "        element.appendChild(docLink);\n",
              "      }\n",
              "    </script>\n",
              "  </div>\n",
              "\n",
              "\n",
              "<div id=\"df-4db6f7ca-d135-40a6-8407-48dfc967f5a9\">\n",
              "  <button class=\"colab-df-quickchart\" onclick=\"quickchart('df-4db6f7ca-d135-40a6-8407-48dfc967f5a9')\"\n",
              "            title=\"Suggest charts\"\n",
              "            style=\"display:none;\">\n",
              "\n",
              "<svg xmlns=\"http://www.w3.org/2000/svg\" height=\"24px\"viewBox=\"0 0 24 24\"\n",
              "     width=\"24px\">\n",
              "    <g>\n",
              "        <path d=\"M19 3H5c-1.1 0-2 .9-2 2v14c0 1.1.9 2 2 2h14c1.1 0 2-.9 2-2V5c0-1.1-.9-2-2-2zM9 17H7v-7h2v7zm4 0h-2V7h2v10zm4 0h-2v-4h2v4z\"/>\n",
              "    </g>\n",
              "</svg>\n",
              "  </button>\n",
              "\n",
              "<style>\n",
              "  .colab-df-quickchart {\n",
              "      --bg-color: #E8F0FE;\n",
              "      --fill-color: #1967D2;\n",
              "      --hover-bg-color: #E2EBFA;\n",
              "      --hover-fill-color: #174EA6;\n",
              "      --disabled-fill-color: #AAA;\n",
              "      --disabled-bg-color: #DDD;\n",
              "  }\n",
              "\n",
              "  [theme=dark] .colab-df-quickchart {\n",
              "      --bg-color: #3B4455;\n",
              "      --fill-color: #D2E3FC;\n",
              "      --hover-bg-color: #434B5C;\n",
              "      --hover-fill-color: #FFFFFF;\n",
              "      --disabled-bg-color: #3B4455;\n",
              "      --disabled-fill-color: #666;\n",
              "  }\n",
              "\n",
              "  .colab-df-quickchart {\n",
              "    background-color: var(--bg-color);\n",
              "    border: none;\n",
              "    border-radius: 50%;\n",
              "    cursor: pointer;\n",
              "    display: none;\n",
              "    fill: var(--fill-color);\n",
              "    height: 32px;\n",
              "    padding: 0;\n",
              "    width: 32px;\n",
              "  }\n",
              "\n",
              "  .colab-df-quickchart:hover {\n",
              "    background-color: var(--hover-bg-color);\n",
              "    box-shadow: 0 1px 2px rgba(60, 64, 67, 0.3), 0 1px 3px 1px rgba(60, 64, 67, 0.15);\n",
              "    fill: var(--button-hover-fill-color);\n",
              "  }\n",
              "\n",
              "  .colab-df-quickchart-complete:disabled,\n",
              "  .colab-df-quickchart-complete:disabled:hover {\n",
              "    background-color: var(--disabled-bg-color);\n",
              "    fill: var(--disabled-fill-color);\n",
              "    box-shadow: none;\n",
              "  }\n",
              "\n",
              "  .colab-df-spinner {\n",
              "    border: 2px solid var(--fill-color);\n",
              "    border-color: transparent;\n",
              "    border-bottom-color: var(--fill-color);\n",
              "    animation:\n",
              "      spin 1s steps(1) infinite;\n",
              "  }\n",
              "\n",
              "  @keyframes spin {\n",
              "    0% {\n",
              "      border-color: transparent;\n",
              "      border-bottom-color: var(--fill-color);\n",
              "      border-left-color: var(--fill-color);\n",
              "    }\n",
              "    20% {\n",
              "      border-color: transparent;\n",
              "      border-left-color: var(--fill-color);\n",
              "      border-top-color: var(--fill-color);\n",
              "    }\n",
              "    30% {\n",
              "      border-color: transparent;\n",
              "      border-left-color: var(--fill-color);\n",
              "      border-top-color: var(--fill-color);\n",
              "      border-right-color: var(--fill-color);\n",
              "    }\n",
              "    40% {\n",
              "      border-color: transparent;\n",
              "      border-right-color: var(--fill-color);\n",
              "      border-top-color: var(--fill-color);\n",
              "    }\n",
              "    60% {\n",
              "      border-color: transparent;\n",
              "      border-right-color: var(--fill-color);\n",
              "    }\n",
              "    80% {\n",
              "      border-color: transparent;\n",
              "      border-right-color: var(--fill-color);\n",
              "      border-bottom-color: var(--fill-color);\n",
              "    }\n",
              "    90% {\n",
              "      border-color: transparent;\n",
              "      border-bottom-color: var(--fill-color);\n",
              "    }\n",
              "  }\n",
              "</style>\n",
              "\n",
              "  <script>\n",
              "    async function quickchart(key) {\n",
              "      const quickchartButtonEl =\n",
              "        document.querySelector('#' + key + ' button');\n",
              "      quickchartButtonEl.disabled = true;  // To prevent multiple clicks.\n",
              "      quickchartButtonEl.classList.add('colab-df-spinner');\n",
              "      try {\n",
              "        const charts = await google.colab.kernel.invokeFunction(\n",
              "            'suggestCharts', [key], {});\n",
              "      } catch (error) {\n",
              "        console.error('Error during call to suggestCharts:', error);\n",
              "      }\n",
              "      quickchartButtonEl.classList.remove('colab-df-spinner');\n",
              "      quickchartButtonEl.classList.add('colab-df-quickchart-complete');\n",
              "    }\n",
              "    (() => {\n",
              "      let quickchartButtonEl =\n",
              "        document.querySelector('#df-4db6f7ca-d135-40a6-8407-48dfc967f5a9 button');\n",
              "      quickchartButtonEl.style.display =\n",
              "        google.colab.kernel.accessAllowed ? 'block' : 'none';\n",
              "    })();\n",
              "  </script>\n",
              "</div>\n",
              "\n",
              "    </div>\n",
              "  </div>\n"
            ]
          },
          "metadata": {},
          "execution_count": 8
        }
      ]
    },
    {
      "cell_type": "markdown",
      "metadata": {
        "id": "Jna7T1eqxRmH"
      },
      "source": [
        " - Visualizando o nome das colunas:"
      ]
    },
    {
      "cell_type": "code",
      "metadata": {
        "id": "bX_7C45pxU8Q",
        "colab": {
          "base_uri": "https://localhost:8080/"
        },
        "outputId": "8ba7a4de-ccb2-45e8-e006-bcb0b51961b0"
      },
      "source": [
        "df.columns.to_list()"
      ],
      "execution_count": null,
      "outputs": [
        {
          "output_type": "execute_result",
          "data": {
            "text/plain": [
              "['quarter',\n",
              " 'stock',\n",
              " 'date',\n",
              " 'open',\n",
              " 'high',\n",
              " 'low',\n",
              " 'close',\n",
              " 'volume',\n",
              " 'percent_change_price',\n",
              " 'percent_change_volume_over_last_wk',\n",
              " 'previous_weeks_volume',\n",
              " 'next_weeks_open',\n",
              " 'next_weeks_close',\n",
              " 'percent_change_next_weeks_price',\n",
              " 'days_to_next_dividend',\n",
              " 'percent_return_next_dividend']"
            ]
          },
          "metadata": {},
          "execution_count": 9
        }
      ]
    },
    {
      "cell_type": "markdown",
      "metadata": {
        "id": "sqLB9abQxbE-"
      },
      "source": [
        " - Verificando o número de linhas e colunas."
      ]
    },
    {
      "cell_type": "code",
      "metadata": {
        "id": "sBrOUuUVxe7A",
        "colab": {
          "base_uri": "https://localhost:8080/"
        },
        "outputId": "b643b05d-2919-45f4-8eaa-830510f3190b"
      },
      "source": [
        "linhas, colunas = df.shape\n",
        "print(f'Número de linhas: {linhas}')\n",
        "print(f'Número de colunas: {colunas}')"
      ],
      "execution_count": null,
      "outputs": [
        {
          "output_type": "stream",
          "name": "stdout",
          "text": [
            "Número de linhas: 750\n",
            "Número de colunas: 16\n"
          ]
        }
      ]
    },
    {
      "cell_type": "markdown",
      "metadata": {
        "id": "bSN4zYEKyC7L"
      },
      "source": [
        "Vamos selecionar os valores de abertura, fechamento, máximo e mínimo das ações do McDonalds, listado na Dow Jones como MCD:"
      ]
    },
    {
      "cell_type": "markdown",
      "metadata": {
        "id": "CyTuPJmgzbZd"
      },
      "source": [
        " - Selecionando as linha do dataframe original `df` em que a coluna `stock` é igual a `MCD`."
      ]
    },
    {
      "cell_type": "code",
      "metadata": {
        "id": "25XUDMPqqwgH"
      },
      "source": [
        "df_mcd = df[df['stock'] == 'MCD']"
      ],
      "execution_count": null,
      "outputs": []
    },
    {
      "cell_type": "markdown",
      "metadata": {
        "id": "ga7Z_GA0zxzA"
      },
      "source": [
        " - Selecionando apenas as colunas de data e valores de ações."
      ]
    },
    {
      "cell_type": "code",
      "metadata": {
        "id": "95LDI4jCrMGI"
      },
      "source": [
        "df_mcd = df_mcd[['date', 'open', 'high', 'low', 'close']]"
      ],
      "execution_count": null,
      "outputs": []
    },
    {
      "cell_type": "markdown",
      "metadata": {
        "id": "ApnHMNYOyQ8T"
      },
      "source": [
        "Excelente, o problema é que as colunas com os valores possuem o carater `$` e são do tipo texto (`object` no `pandas`)."
      ]
    },
    {
      "cell_type": "code",
      "metadata": {
        "id": "DDZZralSr0Zk",
        "colab": {
          "base_uri": "https://localhost:8080/",
          "height": 363
        },
        "outputId": "240b34d7-e833-48e7-f068-9194fa110075"
      },
      "source": [
        "df_mcd.head(n=10)"
      ],
      "execution_count": null,
      "outputs": [
        {
          "output_type": "execute_result",
          "data": {
            "text/plain": [
              "          date    open    high     low   close\n",
              "216   1/7/2011  $77.10  $77.59  $73.59  $74.37\n",
              "217  1/14/2011  $74.25  $74.49  $72.46  $74.06\n",
              "218  1/21/2011  $74.65  $75.75  $74.31  $75.01\n",
              "219  1/28/2011  $74.25  $75.85  $73.05  $73.28\n",
              "220   2/4/2011  $73.80  $74.50  $73.08  $74.05\n",
              "221  2/11/2011  $74.13  $76.32  $73.30  $76.14\n",
              "222  2/18/2011  $76.07  $76.45  $75.70  $76.13\n",
              "223  2/25/2011  $75.95  $76.45  $74.42  $74.44\n",
              "224   3/4/2011  $74.51  $76.63  $73.64  $76.03\n",
              "225  3/11/2011  $76.38  $77.25  $74.97  $76.73"
            ],
            "text/html": [
              "\n",
              "  <div id=\"df-48ce175e-28cc-4b71-b862-ea37ac53ccaa\" class=\"colab-df-container\">\n",
              "    <div>\n",
              "<style scoped>\n",
              "    .dataframe tbody tr th:only-of-type {\n",
              "        vertical-align: middle;\n",
              "    }\n",
              "\n",
              "    .dataframe tbody tr th {\n",
              "        vertical-align: top;\n",
              "    }\n",
              "\n",
              "    .dataframe thead th {\n",
              "        text-align: right;\n",
              "    }\n",
              "</style>\n",
              "<table border=\"1\" class=\"dataframe\">\n",
              "  <thead>\n",
              "    <tr style=\"text-align: right;\">\n",
              "      <th></th>\n",
              "      <th>date</th>\n",
              "      <th>open</th>\n",
              "      <th>high</th>\n",
              "      <th>low</th>\n",
              "      <th>close</th>\n",
              "    </tr>\n",
              "  </thead>\n",
              "  <tbody>\n",
              "    <tr>\n",
              "      <th>216</th>\n",
              "      <td>1/7/2011</td>\n",
              "      <td>$77.10</td>\n",
              "      <td>$77.59</td>\n",
              "      <td>$73.59</td>\n",
              "      <td>$74.37</td>\n",
              "    </tr>\n",
              "    <tr>\n",
              "      <th>217</th>\n",
              "      <td>1/14/2011</td>\n",
              "      <td>$74.25</td>\n",
              "      <td>$74.49</td>\n",
              "      <td>$72.46</td>\n",
              "      <td>$74.06</td>\n",
              "    </tr>\n",
              "    <tr>\n",
              "      <th>218</th>\n",
              "      <td>1/21/2011</td>\n",
              "      <td>$74.65</td>\n",
              "      <td>$75.75</td>\n",
              "      <td>$74.31</td>\n",
              "      <td>$75.01</td>\n",
              "    </tr>\n",
              "    <tr>\n",
              "      <th>219</th>\n",
              "      <td>1/28/2011</td>\n",
              "      <td>$74.25</td>\n",
              "      <td>$75.85</td>\n",
              "      <td>$73.05</td>\n",
              "      <td>$73.28</td>\n",
              "    </tr>\n",
              "    <tr>\n",
              "      <th>220</th>\n",
              "      <td>2/4/2011</td>\n",
              "      <td>$73.80</td>\n",
              "      <td>$74.50</td>\n",
              "      <td>$73.08</td>\n",
              "      <td>$74.05</td>\n",
              "    </tr>\n",
              "    <tr>\n",
              "      <th>221</th>\n",
              "      <td>2/11/2011</td>\n",
              "      <td>$74.13</td>\n",
              "      <td>$76.32</td>\n",
              "      <td>$73.30</td>\n",
              "      <td>$76.14</td>\n",
              "    </tr>\n",
              "    <tr>\n",
              "      <th>222</th>\n",
              "      <td>2/18/2011</td>\n",
              "      <td>$76.07</td>\n",
              "      <td>$76.45</td>\n",
              "      <td>$75.70</td>\n",
              "      <td>$76.13</td>\n",
              "    </tr>\n",
              "    <tr>\n",
              "      <th>223</th>\n",
              "      <td>2/25/2011</td>\n",
              "      <td>$75.95</td>\n",
              "      <td>$76.45</td>\n",
              "      <td>$74.42</td>\n",
              "      <td>$74.44</td>\n",
              "    </tr>\n",
              "    <tr>\n",
              "      <th>224</th>\n",
              "      <td>3/4/2011</td>\n",
              "      <td>$74.51</td>\n",
              "      <td>$76.63</td>\n",
              "      <td>$73.64</td>\n",
              "      <td>$76.03</td>\n",
              "    </tr>\n",
              "    <tr>\n",
              "      <th>225</th>\n",
              "      <td>3/11/2011</td>\n",
              "      <td>$76.38</td>\n",
              "      <td>$77.25</td>\n",
              "      <td>$74.97</td>\n",
              "      <td>$76.73</td>\n",
              "    </tr>\n",
              "  </tbody>\n",
              "</table>\n",
              "</div>\n",
              "    <div class=\"colab-df-buttons\">\n",
              "\n",
              "  <div class=\"colab-df-container\">\n",
              "    <button class=\"colab-df-convert\" onclick=\"convertToInteractive('df-48ce175e-28cc-4b71-b862-ea37ac53ccaa')\"\n",
              "            title=\"Convert this dataframe to an interactive table.\"\n",
              "            style=\"display:none;\">\n",
              "\n",
              "  <svg xmlns=\"http://www.w3.org/2000/svg\" height=\"24px\" viewBox=\"0 -960 960 960\">\n",
              "    <path d=\"M120-120v-720h720v720H120Zm60-500h600v-160H180v160Zm220 220h160v-160H400v160Zm0 220h160v-160H400v160ZM180-400h160v-160H180v160Zm440 0h160v-160H620v160ZM180-180h160v-160H180v160Zm440 0h160v-160H620v160Z\"/>\n",
              "  </svg>\n",
              "    </button>\n",
              "\n",
              "  <style>\n",
              "    .colab-df-container {\n",
              "      display:flex;\n",
              "      gap: 12px;\n",
              "    }\n",
              "\n",
              "    .colab-df-convert {\n",
              "      background-color: #E8F0FE;\n",
              "      border: none;\n",
              "      border-radius: 50%;\n",
              "      cursor: pointer;\n",
              "      display: none;\n",
              "      fill: #1967D2;\n",
              "      height: 32px;\n",
              "      padding: 0 0 0 0;\n",
              "      width: 32px;\n",
              "    }\n",
              "\n",
              "    .colab-df-convert:hover {\n",
              "      background-color: #E2EBFA;\n",
              "      box-shadow: 0px 1px 2px rgba(60, 64, 67, 0.3), 0px 1px 3px 1px rgba(60, 64, 67, 0.15);\n",
              "      fill: #174EA6;\n",
              "    }\n",
              "\n",
              "    .colab-df-buttons div {\n",
              "      margin-bottom: 4px;\n",
              "    }\n",
              "\n",
              "    [theme=dark] .colab-df-convert {\n",
              "      background-color: #3B4455;\n",
              "      fill: #D2E3FC;\n",
              "    }\n",
              "\n",
              "    [theme=dark] .colab-df-convert:hover {\n",
              "      background-color: #434B5C;\n",
              "      box-shadow: 0px 1px 3px 1px rgba(0, 0, 0, 0.15);\n",
              "      filter: drop-shadow(0px 1px 2px rgba(0, 0, 0, 0.3));\n",
              "      fill: #FFFFFF;\n",
              "    }\n",
              "  </style>\n",
              "\n",
              "    <script>\n",
              "      const buttonEl =\n",
              "        document.querySelector('#df-48ce175e-28cc-4b71-b862-ea37ac53ccaa button.colab-df-convert');\n",
              "      buttonEl.style.display =\n",
              "        google.colab.kernel.accessAllowed ? 'block' : 'none';\n",
              "\n",
              "      async function convertToInteractive(key) {\n",
              "        const element = document.querySelector('#df-48ce175e-28cc-4b71-b862-ea37ac53ccaa');\n",
              "        const dataTable =\n",
              "          await google.colab.kernel.invokeFunction('convertToInteractive',\n",
              "                                                    [key], {});\n",
              "        if (!dataTable) return;\n",
              "\n",
              "        const docLinkHtml = 'Like what you see? Visit the ' +\n",
              "          '<a target=\"_blank\" href=https://colab.research.google.com/notebooks/data_table.ipynb>data table notebook</a>'\n",
              "          + ' to learn more about interactive tables.';\n",
              "        element.innerHTML = '';\n",
              "        dataTable['output_type'] = 'display_data';\n",
              "        await google.colab.output.renderOutput(dataTable, element);\n",
              "        const docLink = document.createElement('div');\n",
              "        docLink.innerHTML = docLinkHtml;\n",
              "        element.appendChild(docLink);\n",
              "      }\n",
              "    </script>\n",
              "  </div>\n",
              "\n",
              "\n",
              "<div id=\"df-b15d23f0-0709-48ec-8cf1-33f9bd4a8711\">\n",
              "  <button class=\"colab-df-quickchart\" onclick=\"quickchart('df-b15d23f0-0709-48ec-8cf1-33f9bd4a8711')\"\n",
              "            title=\"Suggest charts\"\n",
              "            style=\"display:none;\">\n",
              "\n",
              "<svg xmlns=\"http://www.w3.org/2000/svg\" height=\"24px\"viewBox=\"0 0 24 24\"\n",
              "     width=\"24px\">\n",
              "    <g>\n",
              "        <path d=\"M19 3H5c-1.1 0-2 .9-2 2v14c0 1.1.9 2 2 2h14c1.1 0 2-.9 2-2V5c0-1.1-.9-2-2-2zM9 17H7v-7h2v7zm4 0h-2V7h2v10zm4 0h-2v-4h2v4z\"/>\n",
              "    </g>\n",
              "</svg>\n",
              "  </button>\n",
              "\n",
              "<style>\n",
              "  .colab-df-quickchart {\n",
              "      --bg-color: #E8F0FE;\n",
              "      --fill-color: #1967D2;\n",
              "      --hover-bg-color: #E2EBFA;\n",
              "      --hover-fill-color: #174EA6;\n",
              "      --disabled-fill-color: #AAA;\n",
              "      --disabled-bg-color: #DDD;\n",
              "  }\n",
              "\n",
              "  [theme=dark] .colab-df-quickchart {\n",
              "      --bg-color: #3B4455;\n",
              "      --fill-color: #D2E3FC;\n",
              "      --hover-bg-color: #434B5C;\n",
              "      --hover-fill-color: #FFFFFF;\n",
              "      --disabled-bg-color: #3B4455;\n",
              "      --disabled-fill-color: #666;\n",
              "  }\n",
              "\n",
              "  .colab-df-quickchart {\n",
              "    background-color: var(--bg-color);\n",
              "    border: none;\n",
              "    border-radius: 50%;\n",
              "    cursor: pointer;\n",
              "    display: none;\n",
              "    fill: var(--fill-color);\n",
              "    height: 32px;\n",
              "    padding: 0;\n",
              "    width: 32px;\n",
              "  }\n",
              "\n",
              "  .colab-df-quickchart:hover {\n",
              "    background-color: var(--hover-bg-color);\n",
              "    box-shadow: 0 1px 2px rgba(60, 64, 67, 0.3), 0 1px 3px 1px rgba(60, 64, 67, 0.15);\n",
              "    fill: var(--button-hover-fill-color);\n",
              "  }\n",
              "\n",
              "  .colab-df-quickchart-complete:disabled,\n",
              "  .colab-df-quickchart-complete:disabled:hover {\n",
              "    background-color: var(--disabled-bg-color);\n",
              "    fill: var(--disabled-fill-color);\n",
              "    box-shadow: none;\n",
              "  }\n",
              "\n",
              "  .colab-df-spinner {\n",
              "    border: 2px solid var(--fill-color);\n",
              "    border-color: transparent;\n",
              "    border-bottom-color: var(--fill-color);\n",
              "    animation:\n",
              "      spin 1s steps(1) infinite;\n",
              "  }\n",
              "\n",
              "  @keyframes spin {\n",
              "    0% {\n",
              "      border-color: transparent;\n",
              "      border-bottom-color: var(--fill-color);\n",
              "      border-left-color: var(--fill-color);\n",
              "    }\n",
              "    20% {\n",
              "      border-color: transparent;\n",
              "      border-left-color: var(--fill-color);\n",
              "      border-top-color: var(--fill-color);\n",
              "    }\n",
              "    30% {\n",
              "      border-color: transparent;\n",
              "      border-left-color: var(--fill-color);\n",
              "      border-top-color: var(--fill-color);\n",
              "      border-right-color: var(--fill-color);\n",
              "    }\n",
              "    40% {\n",
              "      border-color: transparent;\n",
              "      border-right-color: var(--fill-color);\n",
              "      border-top-color: var(--fill-color);\n",
              "    }\n",
              "    60% {\n",
              "      border-color: transparent;\n",
              "      border-right-color: var(--fill-color);\n",
              "    }\n",
              "    80% {\n",
              "      border-color: transparent;\n",
              "      border-right-color: var(--fill-color);\n",
              "      border-bottom-color: var(--fill-color);\n",
              "    }\n",
              "    90% {\n",
              "      border-color: transparent;\n",
              "      border-bottom-color: var(--fill-color);\n",
              "    }\n",
              "  }\n",
              "</style>\n",
              "\n",
              "  <script>\n",
              "    async function quickchart(key) {\n",
              "      const quickchartButtonEl =\n",
              "        document.querySelector('#' + key + ' button');\n",
              "      quickchartButtonEl.disabled = true;  // To prevent multiple clicks.\n",
              "      quickchartButtonEl.classList.add('colab-df-spinner');\n",
              "      try {\n",
              "        const charts = await google.colab.kernel.invokeFunction(\n",
              "            'suggestCharts', [key], {});\n",
              "      } catch (error) {\n",
              "        console.error('Error during call to suggestCharts:', error);\n",
              "      }\n",
              "      quickchartButtonEl.classList.remove('colab-df-spinner');\n",
              "      quickchartButtonEl.classList.add('colab-df-quickchart-complete');\n",
              "    }\n",
              "    (() => {\n",
              "      let quickchartButtonEl =\n",
              "        document.querySelector('#df-b15d23f0-0709-48ec-8cf1-33f9bd4a8711 button');\n",
              "      quickchartButtonEl.style.display =\n",
              "        google.colab.kernel.accessAllowed ? 'block' : 'none';\n",
              "    })();\n",
              "  </script>\n",
              "</div>\n",
              "\n",
              "    </div>\n",
              "  </div>\n"
            ]
          },
          "metadata": {},
          "execution_count": 13
        }
      ]
    },
    {
      "cell_type": "code",
      "metadata": {
        "id": "8cx7gP6TyjOu",
        "colab": {
          "base_uri": "https://localhost:8080/"
        },
        "outputId": "d0516840-7490-42ff-d2b5-2c96e9ceca0e"
      },
      "source": [
        "df_mcd.dtypes"
      ],
      "execution_count": null,
      "outputs": [
        {
          "output_type": "execute_result",
          "data": {
            "text/plain": [
              "date     object\n",
              "open     object\n",
              "high     object\n",
              "low      object\n",
              "close    object\n",
              "dtype: object"
            ]
          },
          "metadata": {},
          "execution_count": 14
        }
      ]
    },
    {
      "cell_type": "markdown",
      "metadata": {
        "id": "IsSYxtOOys72"
      },
      "source": [
        "Vamos limpar as colunas com o método `apply`, que permite a aplicação de uma função anônima (`lambda`) qualquer. A função `lambda` remove o caracter **$** e faz a conversão do tipo de `str` para `float`."
      ]
    },
    {
      "cell_type": "code",
      "metadata": {
        "id": "u3OGT0r_sFCJ"
      },
      "source": [
        "for col in ['open', 'high', 'low', 'close']:\n",
        "  df_mcd[col] = df_mcd[col].apply(lambda value: float(value.split(sep='$')[-1]))"
      ],
      "execution_count": null,
      "outputs": []
    },
    {
      "cell_type": "markdown",
      "metadata": {
        "id": "4xEkH-RdzLUi"
      },
      "source": [
        "Verifique novamente os dados e seus tipos."
      ]
    },
    {
      "cell_type": "code",
      "metadata": {
        "id": "4w3-4q1gsv3Y",
        "colab": {
          "base_uri": "https://localhost:8080/",
          "height": 363
        },
        "outputId": "06f01ba3-54d6-4367-a4ac-4ca1ef940eb4"
      },
      "source": [
        "df_mcd.head(n=10)"
      ],
      "execution_count": null,
      "outputs": [
        {
          "output_type": "execute_result",
          "data": {
            "text/plain": [
              "          date   open   high    low  close\n",
              "216   1/7/2011  77.10  77.59  73.59  74.37\n",
              "217  1/14/2011  74.25  74.49  72.46  74.06\n",
              "218  1/21/2011  74.65  75.75  74.31  75.01\n",
              "219  1/28/2011  74.25  75.85  73.05  73.28\n",
              "220   2/4/2011  73.80  74.50  73.08  74.05\n",
              "221  2/11/2011  74.13  76.32  73.30  76.14\n",
              "222  2/18/2011  76.07  76.45  75.70  76.13\n",
              "223  2/25/2011  75.95  76.45  74.42  74.44\n",
              "224   3/4/2011  74.51  76.63  73.64  76.03\n",
              "225  3/11/2011  76.38  77.25  74.97  76.73"
            ],
            "text/html": [
              "\n",
              "  <div id=\"df-42b44165-88a3-4a1f-96d4-442ad7424465\" class=\"colab-df-container\">\n",
              "    <div>\n",
              "<style scoped>\n",
              "    .dataframe tbody tr th:only-of-type {\n",
              "        vertical-align: middle;\n",
              "    }\n",
              "\n",
              "    .dataframe tbody tr th {\n",
              "        vertical-align: top;\n",
              "    }\n",
              "\n",
              "    .dataframe thead th {\n",
              "        text-align: right;\n",
              "    }\n",
              "</style>\n",
              "<table border=\"1\" class=\"dataframe\">\n",
              "  <thead>\n",
              "    <tr style=\"text-align: right;\">\n",
              "      <th></th>\n",
              "      <th>date</th>\n",
              "      <th>open</th>\n",
              "      <th>high</th>\n",
              "      <th>low</th>\n",
              "      <th>close</th>\n",
              "    </tr>\n",
              "  </thead>\n",
              "  <tbody>\n",
              "    <tr>\n",
              "      <th>216</th>\n",
              "      <td>1/7/2011</td>\n",
              "      <td>77.10</td>\n",
              "      <td>77.59</td>\n",
              "      <td>73.59</td>\n",
              "      <td>74.37</td>\n",
              "    </tr>\n",
              "    <tr>\n",
              "      <th>217</th>\n",
              "      <td>1/14/2011</td>\n",
              "      <td>74.25</td>\n",
              "      <td>74.49</td>\n",
              "      <td>72.46</td>\n",
              "      <td>74.06</td>\n",
              "    </tr>\n",
              "    <tr>\n",
              "      <th>218</th>\n",
              "      <td>1/21/2011</td>\n",
              "      <td>74.65</td>\n",
              "      <td>75.75</td>\n",
              "      <td>74.31</td>\n",
              "      <td>75.01</td>\n",
              "    </tr>\n",
              "    <tr>\n",
              "      <th>219</th>\n",
              "      <td>1/28/2011</td>\n",
              "      <td>74.25</td>\n",
              "      <td>75.85</td>\n",
              "      <td>73.05</td>\n",
              "      <td>73.28</td>\n",
              "    </tr>\n",
              "    <tr>\n",
              "      <th>220</th>\n",
              "      <td>2/4/2011</td>\n",
              "      <td>73.80</td>\n",
              "      <td>74.50</td>\n",
              "      <td>73.08</td>\n",
              "      <td>74.05</td>\n",
              "    </tr>\n",
              "    <tr>\n",
              "      <th>221</th>\n",
              "      <td>2/11/2011</td>\n",
              "      <td>74.13</td>\n",
              "      <td>76.32</td>\n",
              "      <td>73.30</td>\n",
              "      <td>76.14</td>\n",
              "    </tr>\n",
              "    <tr>\n",
              "      <th>222</th>\n",
              "      <td>2/18/2011</td>\n",
              "      <td>76.07</td>\n",
              "      <td>76.45</td>\n",
              "      <td>75.70</td>\n",
              "      <td>76.13</td>\n",
              "    </tr>\n",
              "    <tr>\n",
              "      <th>223</th>\n",
              "      <td>2/25/2011</td>\n",
              "      <td>75.95</td>\n",
              "      <td>76.45</td>\n",
              "      <td>74.42</td>\n",
              "      <td>74.44</td>\n",
              "    </tr>\n",
              "    <tr>\n",
              "      <th>224</th>\n",
              "      <td>3/4/2011</td>\n",
              "      <td>74.51</td>\n",
              "      <td>76.63</td>\n",
              "      <td>73.64</td>\n",
              "      <td>76.03</td>\n",
              "    </tr>\n",
              "    <tr>\n",
              "      <th>225</th>\n",
              "      <td>3/11/2011</td>\n",
              "      <td>76.38</td>\n",
              "      <td>77.25</td>\n",
              "      <td>74.97</td>\n",
              "      <td>76.73</td>\n",
              "    </tr>\n",
              "  </tbody>\n",
              "</table>\n",
              "</div>\n",
              "    <div class=\"colab-df-buttons\">\n",
              "\n",
              "  <div class=\"colab-df-container\">\n",
              "    <button class=\"colab-df-convert\" onclick=\"convertToInteractive('df-42b44165-88a3-4a1f-96d4-442ad7424465')\"\n",
              "            title=\"Convert this dataframe to an interactive table.\"\n",
              "            style=\"display:none;\">\n",
              "\n",
              "  <svg xmlns=\"http://www.w3.org/2000/svg\" height=\"24px\" viewBox=\"0 -960 960 960\">\n",
              "    <path d=\"M120-120v-720h720v720H120Zm60-500h600v-160H180v160Zm220 220h160v-160H400v160Zm0 220h160v-160H400v160ZM180-400h160v-160H180v160Zm440 0h160v-160H620v160ZM180-180h160v-160H180v160Zm440 0h160v-160H620v160Z\"/>\n",
              "  </svg>\n",
              "    </button>\n",
              "\n",
              "  <style>\n",
              "    .colab-df-container {\n",
              "      display:flex;\n",
              "      gap: 12px;\n",
              "    }\n",
              "\n",
              "    .colab-df-convert {\n",
              "      background-color: #E8F0FE;\n",
              "      border: none;\n",
              "      border-radius: 50%;\n",
              "      cursor: pointer;\n",
              "      display: none;\n",
              "      fill: #1967D2;\n",
              "      height: 32px;\n",
              "      padding: 0 0 0 0;\n",
              "      width: 32px;\n",
              "    }\n",
              "\n",
              "    .colab-df-convert:hover {\n",
              "      background-color: #E2EBFA;\n",
              "      box-shadow: 0px 1px 2px rgba(60, 64, 67, 0.3), 0px 1px 3px 1px rgba(60, 64, 67, 0.15);\n",
              "      fill: #174EA6;\n",
              "    }\n",
              "\n",
              "    .colab-df-buttons div {\n",
              "      margin-bottom: 4px;\n",
              "    }\n",
              "\n",
              "    [theme=dark] .colab-df-convert {\n",
              "      background-color: #3B4455;\n",
              "      fill: #D2E3FC;\n",
              "    }\n",
              "\n",
              "    [theme=dark] .colab-df-convert:hover {\n",
              "      background-color: #434B5C;\n",
              "      box-shadow: 0px 1px 3px 1px rgba(0, 0, 0, 0.15);\n",
              "      filter: drop-shadow(0px 1px 2px rgba(0, 0, 0, 0.3));\n",
              "      fill: #FFFFFF;\n",
              "    }\n",
              "  </style>\n",
              "\n",
              "    <script>\n",
              "      const buttonEl =\n",
              "        document.querySelector('#df-42b44165-88a3-4a1f-96d4-442ad7424465 button.colab-df-convert');\n",
              "      buttonEl.style.display =\n",
              "        google.colab.kernel.accessAllowed ? 'block' : 'none';\n",
              "\n",
              "      async function convertToInteractive(key) {\n",
              "        const element = document.querySelector('#df-42b44165-88a3-4a1f-96d4-442ad7424465');\n",
              "        const dataTable =\n",
              "          await google.colab.kernel.invokeFunction('convertToInteractive',\n",
              "                                                    [key], {});\n",
              "        if (!dataTable) return;\n",
              "\n",
              "        const docLinkHtml = 'Like what you see? Visit the ' +\n",
              "          '<a target=\"_blank\" href=https://colab.research.google.com/notebooks/data_table.ipynb>data table notebook</a>'\n",
              "          + ' to learn more about interactive tables.';\n",
              "        element.innerHTML = '';\n",
              "        dataTable['output_type'] = 'display_data';\n",
              "        await google.colab.output.renderOutput(dataTable, element);\n",
              "        const docLink = document.createElement('div');\n",
              "        docLink.innerHTML = docLinkHtml;\n",
              "        element.appendChild(docLink);\n",
              "      }\n",
              "    </script>\n",
              "  </div>\n",
              "\n",
              "\n",
              "<div id=\"df-ae665765-a4a3-486f-917c-4e84ccc4991d\">\n",
              "  <button class=\"colab-df-quickchart\" onclick=\"quickchart('df-ae665765-a4a3-486f-917c-4e84ccc4991d')\"\n",
              "            title=\"Suggest charts\"\n",
              "            style=\"display:none;\">\n",
              "\n",
              "<svg xmlns=\"http://www.w3.org/2000/svg\" height=\"24px\"viewBox=\"0 0 24 24\"\n",
              "     width=\"24px\">\n",
              "    <g>\n",
              "        <path d=\"M19 3H5c-1.1 0-2 .9-2 2v14c0 1.1.9 2 2 2h14c1.1 0 2-.9 2-2V5c0-1.1-.9-2-2-2zM9 17H7v-7h2v7zm4 0h-2V7h2v10zm4 0h-2v-4h2v4z\"/>\n",
              "    </g>\n",
              "</svg>\n",
              "  </button>\n",
              "\n",
              "<style>\n",
              "  .colab-df-quickchart {\n",
              "      --bg-color: #E8F0FE;\n",
              "      --fill-color: #1967D2;\n",
              "      --hover-bg-color: #E2EBFA;\n",
              "      --hover-fill-color: #174EA6;\n",
              "      --disabled-fill-color: #AAA;\n",
              "      --disabled-bg-color: #DDD;\n",
              "  }\n",
              "\n",
              "  [theme=dark] .colab-df-quickchart {\n",
              "      --bg-color: #3B4455;\n",
              "      --fill-color: #D2E3FC;\n",
              "      --hover-bg-color: #434B5C;\n",
              "      --hover-fill-color: #FFFFFF;\n",
              "      --disabled-bg-color: #3B4455;\n",
              "      --disabled-fill-color: #666;\n",
              "  }\n",
              "\n",
              "  .colab-df-quickchart {\n",
              "    background-color: var(--bg-color);\n",
              "    border: none;\n",
              "    border-radius: 50%;\n",
              "    cursor: pointer;\n",
              "    display: none;\n",
              "    fill: var(--fill-color);\n",
              "    height: 32px;\n",
              "    padding: 0;\n",
              "    width: 32px;\n",
              "  }\n",
              "\n",
              "  .colab-df-quickchart:hover {\n",
              "    background-color: var(--hover-bg-color);\n",
              "    box-shadow: 0 1px 2px rgba(60, 64, 67, 0.3), 0 1px 3px 1px rgba(60, 64, 67, 0.15);\n",
              "    fill: var(--button-hover-fill-color);\n",
              "  }\n",
              "\n",
              "  .colab-df-quickchart-complete:disabled,\n",
              "  .colab-df-quickchart-complete:disabled:hover {\n",
              "    background-color: var(--disabled-bg-color);\n",
              "    fill: var(--disabled-fill-color);\n",
              "    box-shadow: none;\n",
              "  }\n",
              "\n",
              "  .colab-df-spinner {\n",
              "    border: 2px solid var(--fill-color);\n",
              "    border-color: transparent;\n",
              "    border-bottom-color: var(--fill-color);\n",
              "    animation:\n",
              "      spin 1s steps(1) infinite;\n",
              "  }\n",
              "\n",
              "  @keyframes spin {\n",
              "    0% {\n",
              "      border-color: transparent;\n",
              "      border-bottom-color: var(--fill-color);\n",
              "      border-left-color: var(--fill-color);\n",
              "    }\n",
              "    20% {\n",
              "      border-color: transparent;\n",
              "      border-left-color: var(--fill-color);\n",
              "      border-top-color: var(--fill-color);\n",
              "    }\n",
              "    30% {\n",
              "      border-color: transparent;\n",
              "      border-left-color: var(--fill-color);\n",
              "      border-top-color: var(--fill-color);\n",
              "      border-right-color: var(--fill-color);\n",
              "    }\n",
              "    40% {\n",
              "      border-color: transparent;\n",
              "      border-right-color: var(--fill-color);\n",
              "      border-top-color: var(--fill-color);\n",
              "    }\n",
              "    60% {\n",
              "      border-color: transparent;\n",
              "      border-right-color: var(--fill-color);\n",
              "    }\n",
              "    80% {\n",
              "      border-color: transparent;\n",
              "      border-right-color: var(--fill-color);\n",
              "      border-bottom-color: var(--fill-color);\n",
              "    }\n",
              "    90% {\n",
              "      border-color: transparent;\n",
              "      border-bottom-color: var(--fill-color);\n",
              "    }\n",
              "  }\n",
              "</style>\n",
              "\n",
              "  <script>\n",
              "    async function quickchart(key) {\n",
              "      const quickchartButtonEl =\n",
              "        document.querySelector('#' + key + ' button');\n",
              "      quickchartButtonEl.disabled = true;  // To prevent multiple clicks.\n",
              "      quickchartButtonEl.classList.add('colab-df-spinner');\n",
              "      try {\n",
              "        const charts = await google.colab.kernel.invokeFunction(\n",
              "            'suggestCharts', [key], {});\n",
              "      } catch (error) {\n",
              "        console.error('Error during call to suggestCharts:', error);\n",
              "      }\n",
              "      quickchartButtonEl.classList.remove('colab-df-spinner');\n",
              "      quickchartButtonEl.classList.add('colab-df-quickchart-complete');\n",
              "    }\n",
              "    (() => {\n",
              "      let quickchartButtonEl =\n",
              "        document.querySelector('#df-ae665765-a4a3-486f-917c-4e84ccc4991d button');\n",
              "      quickchartButtonEl.style.display =\n",
              "        google.colab.kernel.accessAllowed ? 'block' : 'none';\n",
              "    })();\n",
              "  </script>\n",
              "</div>\n",
              "\n",
              "    </div>\n",
              "  </div>\n"
            ]
          },
          "metadata": {},
          "execution_count": 16
        }
      ]
    },
    {
      "cell_type": "code",
      "metadata": {
        "id": "FDZyy9SVzPoK",
        "colab": {
          "base_uri": "https://localhost:8080/"
        },
        "outputId": "d7417092-1068-4e16-d093-46cd905e94d1"
      },
      "source": [
        "df_mcd.dtypes"
      ],
      "execution_count": null,
      "outputs": [
        {
          "output_type": "execute_result",
          "data": {
            "text/plain": [
              "date      object\n",
              "open     float64\n",
              "high     float64\n",
              "low      float64\n",
              "close    float64\n",
              "dtype: object"
            ]
          },
          "metadata": {},
          "execution_count": 17
        }
      ]
    },
    {
      "cell_type": "markdown",
      "metadata": {
        "id": "lIzrYVGWkRJ9"
      },
      "source": [
        "Excelente, agora podemos explorar os dados visualmente."
      ]
    },
    {
      "cell_type": "markdown",
      "metadata": {
        "id": "_-TI78q1yuQa"
      },
      "source": [
        "**Agora é a sua vez!** Conduza o mesmo processo para extrair e tratar os dados da empresa Coca-Cola (`stock` column igual a `KO`)."
      ]
    },
    {
      "cell_type": "code",
      "metadata": {
        "id": "fGbOS3kNzNNF",
        "colab": {
          "base_uri": "https://localhost:8080/"
        },
        "outputId": "2579caa2-3ae4-4127-959f-08b8c76ec7b7"
      },
      "source": [
        "!pip install pandas pandas_datareader"
      ],
      "execution_count": null,
      "outputs": [
        {
          "output_type": "stream",
          "name": "stdout",
          "text": [
            "Requirement already satisfied: pandas in /usr/local/lib/python3.10/dist-packages (1.1.5)\n",
            "Requirement already satisfied: pandas_datareader in /usr/local/lib/python3.10/dist-packages (0.10.0)\n",
            "Requirement already satisfied: python-dateutil>=2.7.3 in /usr/local/lib/python3.10/dist-packages (from pandas) (2.8.2)\n",
            "Requirement already satisfied: pytz>=2017.2 in /usr/local/lib/python3.10/dist-packages (from pandas) (2023.3.post1)\n",
            "Requirement already satisfied: numpy>=1.15.4 in /usr/local/lib/python3.10/dist-packages (from pandas) (1.23.5)\n",
            "Requirement already satisfied: lxml in /usr/local/lib/python3.10/dist-packages (from pandas_datareader) (4.9.3)\n",
            "Requirement already satisfied: requests>=2.19.0 in /usr/local/lib/python3.10/dist-packages (from pandas_datareader) (2.31.0)\n",
            "Requirement already satisfied: six>=1.5 in /usr/local/lib/python3.10/dist-packages (from python-dateutil>=2.7.3->pandas) (1.16.0)\n",
            "Requirement already satisfied: charset-normalizer<4,>=2 in /usr/local/lib/python3.10/dist-packages (from requests>=2.19.0->pandas_datareader) (3.3.2)\n",
            "Requirement already satisfied: idna<4,>=2.5 in /usr/local/lib/python3.10/dist-packages (from requests>=2.19.0->pandas_datareader) (3.6)\n",
            "Requirement already satisfied: urllib3<3,>=1.21.1 in /usr/local/lib/python3.10/dist-packages (from requests>=2.19.0->pandas_datareader) (2.0.7)\n",
            "Requirement already satisfied: certifi>=2017.4.17 in /usr/local/lib/python3.10/dist-packages (from requests>=2.19.0->pandas_datareader) (2023.11.17)\n"
          ]
        }
      ]
    },
    {
      "cell_type": "code",
      "source": [
        "import yfinance as yf"
      ],
      "metadata": {
        "id": "2864zscYGCIr"
      },
      "execution_count": null,
      "outputs": []
    },
    {
      "cell_type": "code",
      "source": [
        "symbol = \"KO\""
      ],
      "metadata": {
        "id": "HujDxlegehHL"
      },
      "execution_count": null,
      "outputs": []
    },
    {
      "cell_type": "code",
      "source": [
        "data_coca_cola = yf.download(symbol, start=\"2022-01-01\", end=\"2023-01-01\")"
      ],
      "metadata": {
        "colab": {
          "base_uri": "https://localhost:8080/"
        },
        "id": "YPoP3FF0epE4",
        "outputId": "ab3b947f-8cd4-4db3-ab24-e65c98710211"
      },
      "execution_count": null,
      "outputs": [
        {
          "output_type": "stream",
          "name": "stdout",
          "text": [
            "\r[*********************100%%**********************]  1 of 1 completed\n"
          ]
        }
      ]
    },
    {
      "cell_type": "code",
      "source": [
        "print(data_coca_cola.head())"
      ],
      "metadata": {
        "colab": {
          "base_uri": "https://localhost:8080/"
        },
        "id": "Q-tZgsRuexep",
        "outputId": "0a1c0be6-a279-4ddc-83be-8291c7b9ae74"
      },
      "execution_count": null,
      "outputs": [
        {
          "output_type": "stream",
          "name": "stdout",
          "text": [
            "                 Open       High        Low      Close  Adj Close    Volume\n",
            "Date                                                                       \n",
            "2022-01-03  58.820000  59.310001  58.380001  59.299999  55.834469  20187300\n",
            "2022-01-04  59.730000  60.540001  59.590000  60.290001  56.766609  26141600\n",
            "2022-01-05  60.090000  61.200001  60.049999  60.790001  57.237385  22507300\n",
            "2022-01-06  60.470001  61.119999  60.439999  60.470001  56.936089  17902300\n",
            "2022-01-07  60.279999  60.720001  60.060001  60.330002  56.804276  12307900\n"
          ]
        }
      ]
    },
    {
      "cell_type": "markdown",
      "metadata": {
        "id": "AAyOBwWQkRJ-"
      },
      "source": [
        "---"
      ]
    },
    {
      "cell_type": "markdown",
      "metadata": {
        "id": "1YCQI-BskR5H"
      },
      "source": [
        "## 2\\. Seaborn"
      ]
    },
    {
      "cell_type": "markdown",
      "metadata": {
        "id": "VSgsKxY4kR5I"
      },
      "source": [
        "Para visualizar os dados, vamos utilizar o pacote `seaborn` na versão `0.11.1`. A documentação completa por ser encontrada neste [link](https://seaborn.pydata.org/)"
      ]
    },
    {
      "cell_type": "code",
      "metadata": {
        "id": "fYNfn2eDs1MN",
        "colab": {
          "base_uri": "https://localhost:8080/"
        },
        "outputId": "3c6ac0f5-e267-4164-baf9-b843e93f9471"
      },
      "source": [
        "!pip install seaborn==0.12.2"
      ],
      "execution_count": null,
      "outputs": [
        {
          "output_type": "stream",
          "name": "stdout",
          "text": [
            "Requirement already satisfied: seaborn==0.12.2 in /usr/local/lib/python3.10/dist-packages (0.12.2)\n",
            "Requirement already satisfied: numpy!=1.24.0,>=1.17 in /usr/local/lib/python3.10/dist-packages (from seaborn==0.12.2) (1.23.5)\n",
            "Requirement already satisfied: pandas>=0.25 in /usr/local/lib/python3.10/dist-packages (from seaborn==0.12.2) (1.1.5)\n",
            "Requirement already satisfied: matplotlib!=3.6.1,>=3.1 in /usr/local/lib/python3.10/dist-packages (from seaborn==0.12.2) (3.7.1)\n",
            "Requirement already satisfied: contourpy>=1.0.1 in /usr/local/lib/python3.10/dist-packages (from matplotlib!=3.6.1,>=3.1->seaborn==0.12.2) (1.2.0)\n",
            "Requirement already satisfied: cycler>=0.10 in /usr/local/lib/python3.10/dist-packages (from matplotlib!=3.6.1,>=3.1->seaborn==0.12.2) (0.12.1)\n",
            "Requirement already satisfied: fonttools>=4.22.0 in /usr/local/lib/python3.10/dist-packages (from matplotlib!=3.6.1,>=3.1->seaborn==0.12.2) (4.46.0)\n",
            "Requirement already satisfied: kiwisolver>=1.0.1 in /usr/local/lib/python3.10/dist-packages (from matplotlib!=3.6.1,>=3.1->seaborn==0.12.2) (1.4.5)\n",
            "Requirement already satisfied: packaging>=20.0 in /usr/local/lib/python3.10/dist-packages (from matplotlib!=3.6.1,>=3.1->seaborn==0.12.2) (23.2)\n",
            "Requirement already satisfied: pillow>=6.2.0 in /usr/local/lib/python3.10/dist-packages (from matplotlib!=3.6.1,>=3.1->seaborn==0.12.2) (9.4.0)\n",
            "Requirement already satisfied: pyparsing>=2.3.1 in /usr/local/lib/python3.10/dist-packages (from matplotlib!=3.6.1,>=3.1->seaborn==0.12.2) (3.1.1)\n",
            "Requirement already satisfied: python-dateutil>=2.7 in /usr/local/lib/python3.10/dist-packages (from matplotlib!=3.6.1,>=3.1->seaborn==0.12.2) (2.8.2)\n",
            "Requirement already satisfied: pytz>=2017.2 in /usr/local/lib/python3.10/dist-packages (from pandas>=0.25->seaborn==0.12.2) (2023.3.post1)\n",
            "Requirement already satisfied: six>=1.5 in /usr/local/lib/python3.10/dist-packages (from python-dateutil>=2.7->matplotlib!=3.6.1,>=3.1->seaborn==0.12.2) (1.16.0)\n"
          ]
        }
      ]
    },
    {
      "cell_type": "code",
      "source": [
        "pip install fastapi kaleido python-multipart uvicorn"
      ],
      "metadata": {
        "colab": {
          "base_uri": "https://localhost:8080/"
        },
        "id": "yYNhL6JSjHFk",
        "outputId": "4a7352df-4eca-4aef-be7d-9a0d588456d2"
      },
      "execution_count": null,
      "outputs": [
        {
          "output_type": "stream",
          "name": "stdout",
          "text": [
            "Requirement already satisfied: fastapi in /usr/local/lib/python3.10/dist-packages (0.108.0)\n",
            "Requirement already satisfied: kaleido in /usr/local/lib/python3.10/dist-packages (0.2.1)\n",
            "Requirement already satisfied: python-multipart in /usr/local/lib/python3.10/dist-packages (0.0.6)\n",
            "Requirement already satisfied: uvicorn in /usr/local/lib/python3.10/dist-packages (0.25.0)\n",
            "Requirement already satisfied: pydantic!=1.8,!=1.8.1,!=2.0.0,!=2.0.1,!=2.1.0,<3.0.0,>=1.7.4 in /usr/local/lib/python3.10/dist-packages (from fastapi) (1.10.13)\n",
            "Requirement already satisfied: starlette<0.33.0,>=0.29.0 in /usr/local/lib/python3.10/dist-packages (from fastapi) (0.32.0.post1)\n",
            "Requirement already satisfied: typing-extensions>=4.8.0 in /usr/local/lib/python3.10/dist-packages (from fastapi) (4.9.0)\n",
            "Requirement already satisfied: click>=7.0 in /usr/local/lib/python3.10/dist-packages (from uvicorn) (8.1.7)\n",
            "Requirement already satisfied: h11>=0.8 in /usr/local/lib/python3.10/dist-packages (from uvicorn) (0.14.0)\n",
            "Requirement already satisfied: anyio<5,>=3.4.0 in /usr/local/lib/python3.10/dist-packages (from starlette<0.33.0,>=0.29.0->fastapi) (3.7.1)\n",
            "Requirement already satisfied: idna>=2.8 in /usr/local/lib/python3.10/dist-packages (from anyio<5,>=3.4.0->starlette<0.33.0,>=0.29.0->fastapi) (3.6)\n",
            "Requirement already satisfied: sniffio>=1.1 in /usr/local/lib/python3.10/dist-packages (from anyio<5,>=3.4.0->starlette<0.33.0,>=0.29.0->fastapi) (1.3.0)\n",
            "Requirement already satisfied: exceptiongroup in /usr/local/lib/python3.10/dist-packages (from anyio<5,>=3.4.0->starlette<0.33.0,>=0.29.0->fastapi) (1.2.0)\n"
          ]
        }
      ]
    },
    {
      "cell_type": "markdown",
      "metadata": {
        "id": "DtuGrHyQ0CJ-"
      },
      "source": [
        "Vamos importar o pacote com o apelido (alias) `sns`."
      ]
    },
    {
      "cell_type": "code",
      "metadata": {
        "id": "fAeWYQjis8E5"
      },
      "source": [
        "import seaborn as sns"
      ],
      "execution_count": null,
      "outputs": []
    },
    {
      "cell_type": "markdown",
      "metadata": {
        "id": "TqYmOY1m0Eh3"
      },
      "source": [
        "Vamos visualizar o os valores de abertura das ações ao longo do tempo."
      ]
    },
    {
      "cell_type": "code",
      "metadata": {
        "id": "7-5D1wKcwAuO",
        "colab": {
          "base_uri": "https://localhost:8080/",
          "height": 541
        },
        "outputId": "966a9572-35ae-4c6c-9085-45cd5151b2d1"
      },
      "source": [
        "plot = sns.lineplot(x=\"date\", y=\"open\", data=df_mcd)\n",
        "_ = plot.set_xticklabels(labels=df_mcd['date'], rotation=90)"
      ],
      "execution_count": null,
      "outputs": [
        {
          "output_type": "stream",
          "name": "stderr",
          "text": [
            "<ipython-input-26-533bf4eae097>:2: UserWarning: FixedFormatter should only be used together with FixedLocator\n",
            "  _ = plot.set_xticklabels(labels=df_mcd['date'], rotation=90)\n"
          ]
        },
        {
          "output_type": "display_data",
          "data": {
            "text/plain": [
              "<Figure size 640x480 with 1 Axes>"
            ],
            "image/png": "[encoded data removed]"
          },
          "metadata": {}
        }
      ]
    },
    {
      "cell_type": "markdown",
      "metadata": {
        "id": "gh5Fz23t0MA-"
      },
      "source": [
        "Vamos também visualizar o os valores de fechamento das ações ao longo do tempo."
      ]
    },
    {
      "cell_type": "code",
      "metadata": {
        "id": "5QARzs47wP_O",
        "colab": {
          "base_uri": "https://localhost:8080/",
          "height": 541
        },
        "outputId": "c788a23b-b7b6-41d6-c2db-9fba031bd4b7"
      },
      "source": [
        "plot = sns.lineplot(x=\"date\", y=\"close\", data=df_mcd)\n",
        "_ = plot.set_xticklabels(labels=df_mcd['date'], rotation=90)"
      ],
      "execution_count": null,
      "outputs": [
        {
          "output_type": "stream",
          "name": "stderr",
          "text": [
            "<ipython-input-27-1af5daa54bb0>:2: UserWarning: FixedFormatter should only be used together with FixedLocator\n",
            "  _ = plot.set_xticklabels(labels=df_mcd['date'], rotation=90)\n"
          ]
        },
        {
          "output_type": "display_data",
          "data": {
            "text/plain": [
              "<Figure size 640x480 with 1 Axes>"
            ],
            "image/png": "[encoded data removed]"
          },
          "metadata": {}
        }
      ]
    },
    {
      "cell_type": "markdown",
      "metadata": {
        "id": "08BOzhId0TfH"
      },
      "source": [
        "Para facilitar a comparação, vamo visualizar os quatro valores no mesmo gráfico."
      ]
    },
    {
      "cell_type": "code",
      "metadata": {
        "id": "boKoMZbXtAJV",
        "colab": {
          "base_uri": "https://localhost:8080/",
          "height": 541
        },
        "outputId": "ecec9c24-a49e-4c88-90ac-76bbf1471bcc"
      },
      "source": [
        "plot = sns.lineplot(x=\"date\", y=\"value\", hue='variable', data=pd.melt(df_mcd, ['date']))\n",
        "_ = plot.set_xticklabels(labels=df_mcd['date'], rotation=90)"
      ],
      "execution_count": null,
      "outputs": [
        {
          "output_type": "stream",
          "name": "stderr",
          "text": [
            "<ipython-input-28-754274876e32>:2: UserWarning: FixedFormatter should only be used together with FixedLocator\n",
            "  _ = plot.set_xticklabels(labels=df_mcd['date'], rotation=90)\n"
          ]
        },
        {
          "output_type": "display_data",
          "data": {
            "text/plain": [
              "<Figure size 640x480 with 1 Axes>"
            ],
            "image/png": "[encoded data removed]"
          },
          "metadata": {}
        }
      ]
    },
    {
      "cell_type": "markdown",
      "metadata": {
        "id": "H6nM4hJQ1mnb"
      },
      "source": [
        "Para finalizar, vamos salvar o gráfico numa figura."
      ]
    },
    {
      "cell_type": "code",
      "metadata": {
        "id": "I7Wncbvd1lzE"
      },
      "source": [
        "plot.figure.savefig(\"./mcd.png\")"
      ],
      "execution_count": null,
      "outputs": []
    },
    {
      "cell_type": "markdown",
      "metadata": {
        "id": "4mJNcUM7kR5J"
      },
      "source": [
        "**Agora é a sua vez,** faça o gráfico acima para a empresa Coca-Cola e salve a imagem com o nome `ko.png`."
      ]
    },
    {
      "cell_type": "code",
      "source": [
        "import seaborn as sns"
      ],
      "metadata": {
        "id": "tpWUPlGnovOy"
      },
      "execution_count": null,
      "outputs": []
    },
    {
      "cell_type": "code",
      "source": [
        "import matplotlib.pyplot as plt"
      ],
      "metadata": {
        "id": "9qSu9DNjoxEl"
      },
      "execution_count": null,
      "outputs": []
    },
    {
      "cell_type": "code",
      "metadata": {
        "id": "0S_xMlt_zjwV"
      },
      "source": [
        "df_coca_cola = df[df['stock'] == 'KO']"
      ],
      "execution_count": null,
      "outputs": []
    },
    {
      "cell_type": "code",
      "source": [
        "df_coca_cola = df_coca_cola[['date', 'open', 'close']]"
      ],
      "metadata": {
        "id": "llms52ozohgR"
      },
      "execution_count": null,
      "outputs": []
    },
    {
      "cell_type": "code",
      "source": [
        "for col in ['open', 'close']:\n",
        "    df_coca_cola[col] = df_coca_cola[col].apply(lambda value: float(value.split(sep='$')[-1]))"
      ],
      "metadata": {
        "id": "4xnPYdIsokLA"
      },
      "execution_count": null,
      "outputs": []
    },
    {
      "cell_type": "code",
      "source": [
        "plt.figure(figsize=(12, 6))\n",
        "plot = sns.lineplot(x='date', y='value', hue='variable', data=pd.melt(df_coca_cola, ['date']))\n",
        "\n",
        "_ = plot.set_xticklabels(labels=df_mcd['date'], rotation=45, ha='right')"
      ],
      "metadata": {
        "colab": {
          "base_uri": "https://localhost:8080/",
          "height": 623
        },
        "id": "uutO9bF7ombG",
        "outputId": "0723dae0-7c95-40b8-b69c-313fe34324c1"
      },
      "execution_count": null,
      "outputs": [
        {
          "output_type": "stream",
          "name": "stderr",
          "text": [
            "<ipython-input-54-48bcf45d1398>:4: UserWarning: FixedFormatter should only be used together with FixedLocator\n",
            "  _ = plot.set_xticklabels(labels=df_mcd['date'], rotation=45, ha='right')\n"
          ]
        },
        {
          "output_type": "display_data",
          "data": {
            "text/plain": [
              "<Figure size 1200x600 with 1 Axes>"
            ],
            "image/png": "[encoded data removed]"
          },
          "metadata": {}
        }
      ]
    },
    {
      "cell_type": "code",
      "source": [
        "plt.savefig(\"ko.png\")"
      ],
      "metadata": {
        "colab": {
          "base_uri": "https://localhost:8080/",
          "height": 34
        },
        "id": "YKNwntObpDbw",
        "outputId": "a7fa35d4-9d90-43fa-b28a-b08b26551cb1"
      },
      "execution_count": null,
      "outputs": [
        {
          "output_type": "display_data",
          "data": {
            "text/plain": [
              "<Figure size 640x480 with 0 Axes>"
            ]
          },
          "metadata": {}
        }
      ]
    },
    {
      "cell_type": "markdown",
      "metadata": {
        "id": "fYM0WRi0zoQx"
      },
      "source": [
        "Analise as duas imagens e escreva pelo menos um *insight* que você consegue extrair dos dados. Fique a vontade para escrever quantos *insights* você quiser."
      ]
    },
    {
      "cell_type": "markdown",
      "metadata": {
        "id": "xGcI2Yl-0xBY"
      },
      "source": [
        "**Insight #1**: ..."
      ]
    },
    {
      "cell_type": "markdown",
      "source": [
        "Durante o mês de janeiro de 2011, observamos uma variação significativa nos valores das ações da Coca-Cola. No dia 14/01/2011, o valor estava em 63, indicando um ponto inicial. Posteriormente, houve uma queda acentuada entre os dias 28/01/2011 e 04/02/2011, sugerindo um período de instabilidade. Entretanto, uma recuperação ocorreu até o dia 11/03/2011, quando os valores atingiram 65.\n",
        "\n",
        "O aspecto interessante é a subsequente queda abrupta entre 18/03/2011 e 25/03/2011, tanto nos valores de abertura (Open) quanto de fechamento (Close). Essa queda pode ter sido influenciada por eventos específicos do mercado ou notícias relevantes, exigindo uma investigação mais profunda para compreender os fatores subjacentes.\n",
        "\n",
        "Destaca-se também que, a partir de 01/04/2011, houve um aumento expressivo que perdurou até 27/05/2011, atingindo um valor de 68 para ambas as categorias (Open e Close). Essa ascensão sugere uma reviravolta positiva e um possível período de crescimento consistente.\n",
        "\n",
        "Em resumo, janeiro de 2011 apresentou oscilações notáveis nas ações da Coca-Cola, com quedas seguidas de recuperações e um subsequente período de crescimento expressivo. A compreensão dos eventos específicos durante esses períodos pode proporcionar insights mais profundos sobre os fatores impulsionadores dessas variações."
      ],
      "metadata": {
        "id": "1A54Khh9mvJL"
      }
    },
    {
      "cell_type": "markdown",
      "metadata": {
        "id": "8Ubx9z_NkR5K"
      },
      "source": [
        "---"
      ]
    }
  ]
}